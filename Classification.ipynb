{
 "cells": [
  {
   "cell_type": "markdown",
   "metadata": {},
   "source": [
    "## Clasification\n",
    "### Contents\n",
    "1. cross validation\n",
    "2. ML models\n",
    "3. PCA\n",
    "4. Conclusion"
   ]
  },
  {
   "cell_type": "code",
   "execution_count": 1,
   "metadata": {},
   "outputs": [],
   "source": [
    "import pandas as pd\n",
    "%matplotlib inline\n",
    "import matplotlib.pyplot as plt\n",
    "import seaborn as sns\n",
    "sns.set()\n",
    "import numpy as np"
   ]
  },
  {
   "cell_type": "code",
   "execution_count": 2,
   "metadata": {},
   "outputs": [],
   "source": [
    "a = pd.read_csv('Dataset1.csv')\n",
    "b = pd.read_csv('Dataset1_1.csv')\n",
    "dataset1 = pd.concat([a,b])\n",
    "dataset2 = pd.read_csv('Dataset2.csv')\n",
    "dataset3 = pd.read_csv('Dataset3.csv')"
   ]
  },
  {
   "cell_type": "code",
   "execution_count": 3,
   "metadata": {},
   "outputs": [
    {
     "data": {
      "text/html": [
       "<div>\n",
       "<style scoped>\n",
       "    .dataframe tbody tr th:only-of-type {\n",
       "        vertical-align: middle;\n",
       "    }\n",
       "\n",
       "    .dataframe tbody tr th {\n",
       "        vertical-align: top;\n",
       "    }\n",
       "\n",
       "    .dataframe thead th {\n",
       "        text-align: right;\n",
       "    }\n",
       "</style>\n",
       "<table border=\"1\" class=\"dataframe\">\n",
       "  <thead>\n",
       "    <tr style=\"text-align: right;\">\n",
       "      <th></th>\n",
       "      <th>Mag_acc_chest_mean</th>\n",
       "      <th>Mag_acc_left_ankle_mean</th>\n",
       "      <th>Mag_gyro_left_ankle_mean</th>\n",
       "      <th>Mag_magneto_left_ankle_mean</th>\n",
       "      <th>Mag_acc_right_lower_arm_mean</th>\n",
       "      <th>Mag_gyro_right_lower_arm_mean</th>\n",
       "      <th>Mag_magneto_right_lower_arm_mean</th>\n",
       "      <th>lead1_mean</th>\n",
       "      <th>lead2_mean</th>\n",
       "      <th>Mag_acc_chest_std</th>\n",
       "      <th>...</th>\n",
       "      <th>lead2_median</th>\n",
       "      <th>Mag_acc_chest_etr</th>\n",
       "      <th>Mag_acc_left_ankle_etr</th>\n",
       "      <th>Mag_gyro_left_ankle_etr</th>\n",
       "      <th>Mag_magneto_left_ankle_etr</th>\n",
       "      <th>Mag_acc_right_lower_arm_etr</th>\n",
       "      <th>Mag_gyro_right_lower_arm_etr</th>\n",
       "      <th>Mag_magneto_right_lower_arm_etr</th>\n",
       "      <th>label</th>\n",
       "      <th>subject</th>\n",
       "    </tr>\n",
       "  </thead>\n",
       "  <tbody>\n",
       "    <tr>\n",
       "      <th>0</th>\n",
       "      <td>9.799068</td>\n",
       "      <td>9.863101</td>\n",
       "      <td>1.031885</td>\n",
       "      <td>1.283169</td>\n",
       "      <td>9.756313</td>\n",
       "      <td>0.997538</td>\n",
       "      <td>0.689380</td>\n",
       "      <td>0.028886</td>\n",
       "      <td>-0.023444</td>\n",
       "      <td>0.056647</td>\n",
       "      <td>...</td>\n",
       "      <td>-0.023025</td>\n",
       "      <td>3.321904</td>\n",
       "      <td>3.321909</td>\n",
       "      <td>3.321890</td>\n",
       "      <td>3.295995</td>\n",
       "      <td>3.321917</td>\n",
       "      <td>3.321928</td>\n",
       "      <td>3.257426</td>\n",
       "      <td>1</td>\n",
       "      <td>1</td>\n",
       "    </tr>\n",
       "    <tr>\n",
       "      <th>1</th>\n",
       "      <td>9.777663</td>\n",
       "      <td>9.852376</td>\n",
       "      <td>1.030084</td>\n",
       "      <td>1.259505</td>\n",
       "      <td>9.760094</td>\n",
       "      <td>0.997483</td>\n",
       "      <td>0.680839</td>\n",
       "      <td>0.006279</td>\n",
       "      <td>-0.037677</td>\n",
       "      <td>0.066330</td>\n",
       "      <td>...</td>\n",
       "      <td>-0.023025</td>\n",
       "      <td>3.321895</td>\n",
       "      <td>3.321895</td>\n",
       "      <td>3.321904</td>\n",
       "      <td>3.287783</td>\n",
       "      <td>3.321921</td>\n",
       "      <td>3.321928</td>\n",
       "      <td>3.253538</td>\n",
       "      <td>1</td>\n",
       "      <td>1</td>\n",
       "    </tr>\n",
       "    <tr>\n",
       "      <th>2</th>\n",
       "      <td>9.767432</td>\n",
       "      <td>9.844221</td>\n",
       "      <td>1.028283</td>\n",
       "      <td>1.230792</td>\n",
       "      <td>9.777203</td>\n",
       "      <td>0.997429</td>\n",
       "      <td>0.688232</td>\n",
       "      <td>0.006279</td>\n",
       "      <td>-0.039351</td>\n",
       "      <td>0.069226</td>\n",
       "      <td>...</td>\n",
       "      <td>-0.031397</td>\n",
       "      <td>3.321892</td>\n",
       "      <td>3.321889</td>\n",
       "      <td>3.321922</td>\n",
       "      <td>3.287019</td>\n",
       "      <td>3.321892</td>\n",
       "      <td>3.321928</td>\n",
       "      <td>3.250609</td>\n",
       "      <td>1</td>\n",
       "      <td>1</td>\n",
       "    </tr>\n",
       "  </tbody>\n",
       "</table>\n",
       "<p>3 rows × 54 columns</p>\n",
       "</div>"
      ],
      "text/plain": [
       "   Mag_acc_chest_mean  Mag_acc_left_ankle_mean  Mag_gyro_left_ankle_mean  \\\n",
       "0            9.799068                 9.863101                  1.031885   \n",
       "1            9.777663                 9.852376                  1.030084   \n",
       "2            9.767432                 9.844221                  1.028283   \n",
       "\n",
       "   Mag_magneto_left_ankle_mean  Mag_acc_right_lower_arm_mean  \\\n",
       "0                     1.283169                      9.756313   \n",
       "1                     1.259505                      9.760094   \n",
       "2                     1.230792                      9.777203   \n",
       "\n",
       "   Mag_gyro_right_lower_arm_mean  Mag_magneto_right_lower_arm_mean  \\\n",
       "0                       0.997538                          0.689380   \n",
       "1                       0.997483                          0.680839   \n",
       "2                       0.997429                          0.688232   \n",
       "\n",
       "   lead1_mean  lead2_mean  Mag_acc_chest_std  ...  lead2_median  \\\n",
       "0    0.028886   -0.023444           0.056647  ...     -0.023025   \n",
       "1    0.006279   -0.037677           0.066330  ...     -0.023025   \n",
       "2    0.006279   -0.039351           0.069226  ...     -0.031397   \n",
       "\n",
       "   Mag_acc_chest_etr  Mag_acc_left_ankle_etr  Mag_gyro_left_ankle_etr  \\\n",
       "0           3.321904                3.321909                 3.321890   \n",
       "1           3.321895                3.321895                 3.321904   \n",
       "2           3.321892                3.321889                 3.321922   \n",
       "\n",
       "   Mag_magneto_left_ankle_etr  Mag_acc_right_lower_arm_etr  \\\n",
       "0                    3.295995                     3.321917   \n",
       "1                    3.287783                     3.321921   \n",
       "2                    3.287019                     3.321892   \n",
       "\n",
       "   Mag_gyro_right_lower_arm_etr  Mag_magneto_right_lower_arm_etr  label  \\\n",
       "0                      3.321928                         3.257426      1   \n",
       "1                      3.321928                         3.253538      1   \n",
       "2                      3.321928                         3.250609      1   \n",
       "\n",
       "   subject  \n",
       "0        1  \n",
       "1        1  \n",
       "2        1  \n",
       "\n",
       "[3 rows x 54 columns]"
      ]
     },
     "execution_count": 3,
     "metadata": {},
     "output_type": "execute_result"
    }
   ],
   "source": [
    "dataset1.head(3)"
   ]
  },
  {
   "cell_type": "code",
   "execution_count": 4,
   "metadata": {},
   "outputs": [
    {
     "data": {
      "text/html": [
       "<div>\n",
       "<style scoped>\n",
       "    .dataframe tbody tr th:only-of-type {\n",
       "        vertical-align: middle;\n",
       "    }\n",
       "\n",
       "    .dataframe tbody tr th {\n",
       "        vertical-align: top;\n",
       "    }\n",
       "\n",
       "    .dataframe thead th {\n",
       "        text-align: right;\n",
       "    }\n",
       "</style>\n",
       "<table border=\"1\" class=\"dataframe\">\n",
       "  <thead>\n",
       "    <tr style=\"text-align: right;\">\n",
       "      <th></th>\n",
       "      <th>Mag_acc_chest_mean</th>\n",
       "      <th>Mag_acc_left_ankle_mean</th>\n",
       "      <th>Mag_gyro_left_ankle_mean</th>\n",
       "      <th>Mag_magneto_left_ankle_mean</th>\n",
       "      <th>Mag_acc_right_lower_arm_mean</th>\n",
       "      <th>Mag_gyro_right_lower_arm_mean</th>\n",
       "      <th>Mag_magneto_right_lower_arm_mean</th>\n",
       "      <th>lead1_mean</th>\n",
       "      <th>lead2_mean</th>\n",
       "      <th>Mag_acc_chest_std</th>\n",
       "      <th>...</th>\n",
       "      <th>lead2_median</th>\n",
       "      <th>Mag_acc_chest_etr</th>\n",
       "      <th>Mag_acc_left_ankle_etr</th>\n",
       "      <th>Mag_gyro_left_ankle_etr</th>\n",
       "      <th>Mag_magneto_left_ankle_etr</th>\n",
       "      <th>Mag_acc_right_lower_arm_etr</th>\n",
       "      <th>Mag_gyro_right_lower_arm_etr</th>\n",
       "      <th>Mag_magneto_right_lower_arm_etr</th>\n",
       "      <th>label</th>\n",
       "      <th>subject</th>\n",
       "    </tr>\n",
       "  </thead>\n",
       "  <tbody>\n",
       "    <tr>\n",
       "      <th>0</th>\n",
       "      <td>9.799068</td>\n",
       "      <td>9.863101</td>\n",
       "      <td>1.031885</td>\n",
       "      <td>1.283169</td>\n",
       "      <td>9.756313</td>\n",
       "      <td>0.997538</td>\n",
       "      <td>0.689380</td>\n",
       "      <td>0.028886</td>\n",
       "      <td>-0.023444</td>\n",
       "      <td>0.056647</td>\n",
       "      <td>...</td>\n",
       "      <td>-0.023025</td>\n",
       "      <td>3.321904</td>\n",
       "      <td>3.321909</td>\n",
       "      <td>3.321890</td>\n",
       "      <td>3.295995</td>\n",
       "      <td>3.321917</td>\n",
       "      <td>3.321928</td>\n",
       "      <td>3.257426</td>\n",
       "      <td>1</td>\n",
       "      <td>1</td>\n",
       "    </tr>\n",
       "    <tr>\n",
       "      <th>1</th>\n",
       "      <td>9.730536</td>\n",
       "      <td>9.840348</td>\n",
       "      <td>1.031343</td>\n",
       "      <td>1.123577</td>\n",
       "      <td>9.835149</td>\n",
       "      <td>0.998946</td>\n",
       "      <td>0.955677</td>\n",
       "      <td>-0.030560</td>\n",
       "      <td>-0.068655</td>\n",
       "      <td>0.084156</td>\n",
       "      <td>...</td>\n",
       "      <td>-0.041863</td>\n",
       "      <td>3.321874</td>\n",
       "      <td>3.321886</td>\n",
       "      <td>3.321913</td>\n",
       "      <td>3.298009</td>\n",
       "      <td>3.321844</td>\n",
       "      <td>3.321921</td>\n",
       "      <td>3.162013</td>\n",
       "      <td>1</td>\n",
       "      <td>1</td>\n",
       "    </tr>\n",
       "    <tr>\n",
       "      <th>2</th>\n",
       "      <td>9.722070</td>\n",
       "      <td>9.835596</td>\n",
       "      <td>1.036935</td>\n",
       "      <td>1.050011</td>\n",
       "      <td>9.819929</td>\n",
       "      <td>0.999793</td>\n",
       "      <td>1.450012</td>\n",
       "      <td>-0.019257</td>\n",
       "      <td>-0.025955</td>\n",
       "      <td>0.092450</td>\n",
       "      <td>...</td>\n",
       "      <td>-0.012559</td>\n",
       "      <td>3.321863</td>\n",
       "      <td>3.321893</td>\n",
       "      <td>3.321904</td>\n",
       "      <td>3.311754</td>\n",
       "      <td>3.321790</td>\n",
       "      <td>3.321913</td>\n",
       "      <td>3.219169</td>\n",
       "      <td>1</td>\n",
       "      <td>1</td>\n",
       "    </tr>\n",
       "  </tbody>\n",
       "</table>\n",
       "<p>3 rows × 54 columns</p>\n",
       "</div>"
      ],
      "text/plain": [
       "   Mag_acc_chest_mean  Mag_acc_left_ankle_mean  Mag_gyro_left_ankle_mean  \\\n",
       "0            9.799068                 9.863101                  1.031885   \n",
       "1            9.730536                 9.840348                  1.031343   \n",
       "2            9.722070                 9.835596                  1.036935   \n",
       "\n",
       "   Mag_magneto_left_ankle_mean  Mag_acc_right_lower_arm_mean  \\\n",
       "0                     1.283169                      9.756313   \n",
       "1                     1.123577                      9.835149   \n",
       "2                     1.050011                      9.819929   \n",
       "\n",
       "   Mag_gyro_right_lower_arm_mean  Mag_magneto_right_lower_arm_mean  \\\n",
       "0                       0.997538                          0.689380   \n",
       "1                       0.998946                          0.955677   \n",
       "2                       0.999793                          1.450012   \n",
       "\n",
       "   lead1_mean  lead2_mean  Mag_acc_chest_std  ...  lead2_median  \\\n",
       "0    0.028886   -0.023444           0.056647  ...     -0.023025   \n",
       "1   -0.030560   -0.068655           0.084156  ...     -0.041863   \n",
       "2   -0.019257   -0.025955           0.092450  ...     -0.012559   \n",
       "\n",
       "   Mag_acc_chest_etr  Mag_acc_left_ankle_etr  Mag_gyro_left_ankle_etr  \\\n",
       "0           3.321904                3.321909                 3.321890   \n",
       "1           3.321874                3.321886                 3.321913   \n",
       "2           3.321863                3.321893                 3.321904   \n",
       "\n",
       "   Mag_magneto_left_ankle_etr  Mag_acc_right_lower_arm_etr  \\\n",
       "0                    3.295995                     3.321917   \n",
       "1                    3.298009                     3.321844   \n",
       "2                    3.311754                     3.321790   \n",
       "\n",
       "   Mag_gyro_right_lower_arm_etr  Mag_magneto_right_lower_arm_etr  label  \\\n",
       "0                      3.321928                         3.257426      1   \n",
       "1                      3.321921                         3.162013      1   \n",
       "2                      3.321913                         3.219169      1   \n",
       "\n",
       "   subject  \n",
       "0        1  \n",
       "1        1  \n",
       "2        1  \n",
       "\n",
       "[3 rows x 54 columns]"
      ]
     },
     "execution_count": 4,
     "metadata": {},
     "output_type": "execute_result"
    }
   ],
   "source": [
    "dataset2.head(3)"
   ]
  },
  {
   "cell_type": "code",
   "execution_count": 5,
   "metadata": {},
   "outputs": [
    {
     "data": {
      "text/html": [
       "<div>\n",
       "<style scoped>\n",
       "    .dataframe tbody tr th:only-of-type {\n",
       "        vertical-align: middle;\n",
       "    }\n",
       "\n",
       "    .dataframe tbody tr th {\n",
       "        vertical-align: top;\n",
       "    }\n",
       "\n",
       "    .dataframe thead th {\n",
       "        text-align: right;\n",
       "    }\n",
       "</style>\n",
       "<table border=\"1\" class=\"dataframe\">\n",
       "  <thead>\n",
       "    <tr style=\"text-align: right;\">\n",
       "      <th></th>\n",
       "      <th>Mag_acc_chest_mean</th>\n",
       "      <th>Mag_acc_left_ankle_mean</th>\n",
       "      <th>Mag_gyro_left_ankle_mean</th>\n",
       "      <th>Mag_magneto_left_ankle_mean</th>\n",
       "      <th>Mag_acc_right_lower_arm_mean</th>\n",
       "      <th>Mag_gyro_right_lower_arm_mean</th>\n",
       "      <th>Mag_magneto_right_lower_arm_mean</th>\n",
       "      <th>lead1_mean</th>\n",
       "      <th>lead2_mean</th>\n",
       "      <th>Mag_acc_chest_std</th>\n",
       "      <th>...</th>\n",
       "      <th>lead2_median</th>\n",
       "      <th>Mag_acc_chest_etr</th>\n",
       "      <th>Mag_acc_left_ankle_etr</th>\n",
       "      <th>Mag_gyro_left_ankle_etr</th>\n",
       "      <th>Mag_magneto_left_ankle_etr</th>\n",
       "      <th>Mag_acc_right_lower_arm_etr</th>\n",
       "      <th>Mag_gyro_right_lower_arm_etr</th>\n",
       "      <th>Mag_magneto_right_lower_arm_etr</th>\n",
       "      <th>label</th>\n",
       "      <th>subject</th>\n",
       "    </tr>\n",
       "  </thead>\n",
       "  <tbody>\n",
       "    <tr>\n",
       "      <th>0</th>\n",
       "      <td>9.799068</td>\n",
       "      <td>9.863101</td>\n",
       "      <td>1.031885</td>\n",
       "      <td>1.283169</td>\n",
       "      <td>9.756313</td>\n",
       "      <td>0.997538</td>\n",
       "      <td>0.689380</td>\n",
       "      <td>0.028886</td>\n",
       "      <td>-0.023444</td>\n",
       "      <td>0.056647</td>\n",
       "      <td>...</td>\n",
       "      <td>-0.023025</td>\n",
       "      <td>3.321904</td>\n",
       "      <td>3.321909</td>\n",
       "      <td>3.321890</td>\n",
       "      <td>3.295995</td>\n",
       "      <td>3.321917</td>\n",
       "      <td>3.321928</td>\n",
       "      <td>3.257426</td>\n",
       "      <td>1</td>\n",
       "      <td>1</td>\n",
       "    </tr>\n",
       "    <tr>\n",
       "      <th>1</th>\n",
       "      <td>9.722070</td>\n",
       "      <td>9.835596</td>\n",
       "      <td>1.036935</td>\n",
       "      <td>1.050011</td>\n",
       "      <td>9.819929</td>\n",
       "      <td>0.999793</td>\n",
       "      <td>1.450012</td>\n",
       "      <td>-0.019257</td>\n",
       "      <td>-0.025955</td>\n",
       "      <td>0.092450</td>\n",
       "      <td>...</td>\n",
       "      <td>-0.012559</td>\n",
       "      <td>3.321863</td>\n",
       "      <td>3.321893</td>\n",
       "      <td>3.321904</td>\n",
       "      <td>3.311754</td>\n",
       "      <td>3.321790</td>\n",
       "      <td>3.321913</td>\n",
       "      <td>3.219169</td>\n",
       "      <td>1</td>\n",
       "      <td>1</td>\n",
       "    </tr>\n",
       "    <tr>\n",
       "      <th>2</th>\n",
       "      <td>9.800284</td>\n",
       "      <td>9.812880</td>\n",
       "      <td>1.036521</td>\n",
       "      <td>1.068250</td>\n",
       "      <td>9.749735</td>\n",
       "      <td>1.000119</td>\n",
       "      <td>0.843489</td>\n",
       "      <td>0.091262</td>\n",
       "      <td>0.039771</td>\n",
       "      <td>0.077628</td>\n",
       "      <td>...</td>\n",
       "      <td>0.075353</td>\n",
       "      <td>3.321883</td>\n",
       "      <td>3.321789</td>\n",
       "      <td>3.321885</td>\n",
       "      <td>3.308699</td>\n",
       "      <td>3.321913</td>\n",
       "      <td>3.321913</td>\n",
       "      <td>3.130447</td>\n",
       "      <td>1</td>\n",
       "      <td>1</td>\n",
       "    </tr>\n",
       "  </tbody>\n",
       "</table>\n",
       "<p>3 rows × 54 columns</p>\n",
       "</div>"
      ],
      "text/plain": [
       "   Mag_acc_chest_mean  Mag_acc_left_ankle_mean  Mag_gyro_left_ankle_mean  \\\n",
       "0            9.799068                 9.863101                  1.031885   \n",
       "1            9.722070                 9.835596                  1.036935   \n",
       "2            9.800284                 9.812880                  1.036521   \n",
       "\n",
       "   Mag_magneto_left_ankle_mean  Mag_acc_right_lower_arm_mean  \\\n",
       "0                     1.283169                      9.756313   \n",
       "1                     1.050011                      9.819929   \n",
       "2                     1.068250                      9.749735   \n",
       "\n",
       "   Mag_gyro_right_lower_arm_mean  Mag_magneto_right_lower_arm_mean  \\\n",
       "0                       0.997538                          0.689380   \n",
       "1                       0.999793                          1.450012   \n",
       "2                       1.000119                          0.843489   \n",
       "\n",
       "   lead1_mean  lead2_mean  Mag_acc_chest_std  ...  lead2_median  \\\n",
       "0    0.028886   -0.023444           0.056647  ...     -0.023025   \n",
       "1   -0.019257   -0.025955           0.092450  ...     -0.012559   \n",
       "2    0.091262    0.039771           0.077628  ...      0.075353   \n",
       "\n",
       "   Mag_acc_chest_etr  Mag_acc_left_ankle_etr  Mag_gyro_left_ankle_etr  \\\n",
       "0           3.321904                3.321909                 3.321890   \n",
       "1           3.321863                3.321893                 3.321904   \n",
       "2           3.321883                3.321789                 3.321885   \n",
       "\n",
       "   Mag_magneto_left_ankle_etr  Mag_acc_right_lower_arm_etr  \\\n",
       "0                    3.295995                     3.321917   \n",
       "1                    3.311754                     3.321790   \n",
       "2                    3.308699                     3.321913   \n",
       "\n",
       "   Mag_gyro_right_lower_arm_etr  Mag_magneto_right_lower_arm_etr  label  \\\n",
       "0                      3.321928                         3.257426      1   \n",
       "1                      3.321913                         3.219169      1   \n",
       "2                      3.321913                         3.130447      1   \n",
       "\n",
       "   subject  \n",
       "0        1  \n",
       "1        1  \n",
       "2        1  \n",
       "\n",
       "[3 rows x 54 columns]"
      ]
     },
     "execution_count": 5,
     "metadata": {},
     "output_type": "execute_result"
    }
   ],
   "source": [
    "dataset3.head(3)"
   ]
  },
  {
   "cell_type": "markdown",
   "metadata": {},
   "source": [
    "### 1. Cross validation\n",
    "Subject 10 is used as a test dataset.  \n",
    "Remains are used as a train & validation dataset.  \n",
    "\n",
    "Following is how it works.\n",
    "subject 1 is used as validation and others(2~9) are used as train dataset, and then take accuracy on validation.  \n",
    "subject 2 is used as validation and others are used as train dataset, and then take accuracy on validation.  \n",
    "subject 3 is used as validation and others are used as train dataset, and then take accuracy on validation.  \n",
    "subject 4 is used as validation and others are used as train dataset, and then take accuracy on validation.  \n",
    "subject 5 is used as validation and others are used as train dataset, and then take accuracy on validation.  \n",
    "subject 6 is used as validation and others are used as train dataset, and then take accuracy on validation.  \n",
    "subject 7 is used as validation and others are used as train dataset, and then take accuracy on validation.  \n",
    "subject 8 is used as validation and others are used as train dataset, and then take accuracy on validation.  \n",
    "subject 9 is used as validation and others are used as train dataset, and then take accuracy on validation.  \n",
    "\n",
    "Average out them and record the result.  \n",
    "This rule is applied to every ML model.  \n",
    "A model which has the highest avaerage accuracy will predict human activity using test dataset(subject 10). "
   ]
  },
  {
   "cell_type": "code",
   "execution_count": 6,
   "metadata": {},
   "outputs": [],
   "source": [
    "testset1 = dataset1[dataset1['subject'] == 10]\n",
    "testset2 = dataset2[dataset2['subject'] == 10]\n",
    "testset3 = dataset3[dataset3['subject'] == 10]"
   ]
  },
  {
   "cell_type": "code",
   "execution_count": 7,
   "metadata": {},
   "outputs": [
    {
     "data": {
      "text/html": [
       "<div>\n",
       "<style scoped>\n",
       "    .dataframe tbody tr th:only-of-type {\n",
       "        vertical-align: middle;\n",
       "    }\n",
       "\n",
       "    .dataframe tbody tr th {\n",
       "        vertical-align: top;\n",
       "    }\n",
       "\n",
       "    .dataframe thead th {\n",
       "        text-align: right;\n",
       "    }\n",
       "</style>\n",
       "<table border=\"1\" class=\"dataframe\">\n",
       "  <thead>\n",
       "    <tr style=\"text-align: right;\">\n",
       "      <th></th>\n",
       "      <th>Mag_acc_chest_mean</th>\n",
       "      <th>Mag_acc_left_ankle_mean</th>\n",
       "      <th>Mag_gyro_left_ankle_mean</th>\n",
       "      <th>Mag_magneto_left_ankle_mean</th>\n",
       "      <th>Mag_acc_right_lower_arm_mean</th>\n",
       "      <th>Mag_gyro_right_lower_arm_mean</th>\n",
       "      <th>Mag_magneto_right_lower_arm_mean</th>\n",
       "      <th>lead1_mean</th>\n",
       "      <th>lead2_mean</th>\n",
       "      <th>Mag_acc_chest_std</th>\n",
       "      <th>...</th>\n",
       "      <th>lead2_median</th>\n",
       "      <th>Mag_acc_chest_etr</th>\n",
       "      <th>Mag_acc_left_ankle_etr</th>\n",
       "      <th>Mag_gyro_left_ankle_etr</th>\n",
       "      <th>Mag_magneto_left_ankle_etr</th>\n",
       "      <th>Mag_acc_right_lower_arm_etr</th>\n",
       "      <th>Mag_gyro_right_lower_arm_etr</th>\n",
       "      <th>Mag_magneto_right_lower_arm_etr</th>\n",
       "      <th>label</th>\n",
       "      <th>subject</th>\n",
       "    </tr>\n",
       "  </thead>\n",
       "  <tbody>\n",
       "    <tr>\n",
       "      <th>6633</th>\n",
       "      <td>9.772651</td>\n",
       "      <td>9.781933</td>\n",
       "      <td>0.989343</td>\n",
       "      <td>0.816384</td>\n",
       "      <td>9.802627</td>\n",
       "      <td>1.084885</td>\n",
       "      <td>0.866543</td>\n",
       "      <td>0.192991</td>\n",
       "      <td>0.170378</td>\n",
       "      <td>0.109666</td>\n",
       "      <td>...</td>\n",
       "      <td>-0.002093</td>\n",
       "      <td>3.321837</td>\n",
       "      <td>3.321876</td>\n",
       "      <td>3.321897</td>\n",
       "      <td>3.307859</td>\n",
       "      <td>3.321874</td>\n",
       "      <td>3.321907</td>\n",
       "      <td>3.295527</td>\n",
       "      <td>1</td>\n",
       "      <td>10</td>\n",
       "    </tr>\n",
       "    <tr>\n",
       "      <th>6634</th>\n",
       "      <td>9.785575</td>\n",
       "      <td>9.803993</td>\n",
       "      <td>0.989846</td>\n",
       "      <td>0.807330</td>\n",
       "      <td>9.799286</td>\n",
       "      <td>1.086241</td>\n",
       "      <td>0.774969</td>\n",
       "      <td>0.173315</td>\n",
       "      <td>0.152796</td>\n",
       "      <td>0.105256</td>\n",
       "      <td>...</td>\n",
       "      <td>-0.046049</td>\n",
       "      <td>3.321845</td>\n",
       "      <td>3.321898</td>\n",
       "      <td>3.321891</td>\n",
       "      <td>3.308320</td>\n",
       "      <td>3.321879</td>\n",
       "      <td>3.321905</td>\n",
       "      <td>3.255002</td>\n",
       "      <td>1</td>\n",
       "      <td>10</td>\n",
       "    </tr>\n",
       "    <tr>\n",
       "      <th>6635</th>\n",
       "      <td>9.766654</td>\n",
       "      <td>9.772622</td>\n",
       "      <td>0.991078</td>\n",
       "      <td>0.816384</td>\n",
       "      <td>9.803007</td>\n",
       "      <td>1.087597</td>\n",
       "      <td>0.718037</td>\n",
       "      <td>0.141919</td>\n",
       "      <td>0.126841</td>\n",
       "      <td>0.145879</td>\n",
       "      <td>...</td>\n",
       "      <td>-0.064888</td>\n",
       "      <td>3.321766</td>\n",
       "      <td>3.321881</td>\n",
       "      <td>3.321885</td>\n",
       "      <td>3.307859</td>\n",
       "      <td>3.321883</td>\n",
       "      <td>3.321905</td>\n",
       "      <td>3.236339</td>\n",
       "      <td>1</td>\n",
       "      <td>10</td>\n",
       "    </tr>\n",
       "  </tbody>\n",
       "</table>\n",
       "<p>3 rows × 54 columns</p>\n",
       "</div>"
      ],
      "text/plain": [
       "      Mag_acc_chest_mean  Mag_acc_left_ankle_mean  Mag_gyro_left_ankle_mean  \\\n",
       "6633            9.772651                 9.781933                  0.989343   \n",
       "6634            9.785575                 9.803993                  0.989846   \n",
       "6635            9.766654                 9.772622                  0.991078   \n",
       "\n",
       "      Mag_magneto_left_ankle_mean  Mag_acc_right_lower_arm_mean  \\\n",
       "6633                     0.816384                      9.802627   \n",
       "6634                     0.807330                      9.799286   \n",
       "6635                     0.816384                      9.803007   \n",
       "\n",
       "      Mag_gyro_right_lower_arm_mean  Mag_magneto_right_lower_arm_mean  \\\n",
       "6633                       1.084885                          0.866543   \n",
       "6634                       1.086241                          0.774969   \n",
       "6635                       1.087597                          0.718037   \n",
       "\n",
       "      lead1_mean  lead2_mean  Mag_acc_chest_std  ...  lead2_median  \\\n",
       "6633    0.192991    0.170378           0.109666  ...     -0.002093   \n",
       "6634    0.173315    0.152796           0.105256  ...     -0.046049   \n",
       "6635    0.141919    0.126841           0.145879  ...     -0.064888   \n",
       "\n",
       "      Mag_acc_chest_etr  Mag_acc_left_ankle_etr  Mag_gyro_left_ankle_etr  \\\n",
       "6633           3.321837                3.321876                 3.321897   \n",
       "6634           3.321845                3.321898                 3.321891   \n",
       "6635           3.321766                3.321881                 3.321885   \n",
       "\n",
       "      Mag_magneto_left_ankle_etr  Mag_acc_right_lower_arm_etr  \\\n",
       "6633                    3.307859                     3.321874   \n",
       "6634                    3.308320                     3.321879   \n",
       "6635                    3.307859                     3.321883   \n",
       "\n",
       "      Mag_gyro_right_lower_arm_etr  Mag_magneto_right_lower_arm_etr  label  \\\n",
       "6633                      3.321907                         3.295527      1   \n",
       "6634                      3.321905                         3.255002      1   \n",
       "6635                      3.321905                         3.236339      1   \n",
       "\n",
       "      subject  \n",
       "6633       10  \n",
       "6634       10  \n",
       "6635       10  \n",
       "\n",
       "[3 rows x 54 columns]"
      ]
     },
     "execution_count": 7,
     "metadata": {},
     "output_type": "execute_result"
    }
   ],
   "source": [
    "testset1.head(3)"
   ]
  },
  {
   "cell_type": "code",
   "execution_count": 8,
   "metadata": {},
   "outputs": [],
   "source": [
    "from sklearn.tree import DecisionTreeClassifier\n",
    "from sklearn import metrics\n",
    "from sklearn.linear_model import LogisticRegression\n",
    "from sklearn.neighbors import KNeighborsClassifier\n",
    "from sklearn.discriminant_analysis import LinearDiscriminantAnalysis\n",
    "from sklearn.naive_bayes import GaussianNB\n",
    "from sklearn.svm import SVC\n",
    "from sklearn.ensemble import RandomForestClassifier\n",
    "from sklearn.metrics import confusion_matrix"
   ]
  },
  {
   "cell_type": "code",
   "execution_count": 83,
   "metadata": {},
   "outputs": [],
   "source": [
    "def cross_val(dataset, model, depth = 3):\n",
    "    dataset = dataset[dataset['subject'] != 10] # remove subject 10, because it is used as testset.\n",
    "    accuracy = []\n",
    "    for i in range(1,10):\n",
    "        X_val = dataset[dataset['subject'] == i].drop(['label','subject'],axis = 1) # validation set\n",
    "        y_val = dataset[dataset['subject'] == i]['label']\n",
    "        \n",
    "        X_train = dataset[dataset['subject'] != i].drop(['label','subject'], axis = 1) # train set\n",
    "        y_train = dataset[dataset['subject'] != i]['label']\n",
    "        \n",
    "        if model == 'decision_tree':\n",
    "            ml_model = DecisionTreeClassifier(max_depth= depth, random_state=1)\n",
    "            ml_model.fit(X_train, y_train)\n",
    "            \n",
    "            preds = ml_model.predict(X_val)\n",
    "            \n",
    "            \n",
    "        elif model == 'logistic':\n",
    "            ml_model = LogisticRegression()\n",
    "            ml_model.fit(X_train, y_train)\n",
    "            preds = ml_model.predict(X_val)\n",
    "        \n",
    "        elif model == 'knn':\n",
    "            ml_model = KNeighborsClassifier()\n",
    "            ml_model.fit(X_train, y_train)\n",
    "            preds = ml_model.predict(X_val)\n",
    "        \n",
    "        elif model == 'lda':\n",
    "            ml_model = LinearDiscriminantAnalysis()\n",
    "            ml_model.fit(X_train, y_train)\n",
    "            preds = ml_model.predict(X_val)\n",
    "            \n",
    "        elif model == 'gnb':\n",
    "            ml_model = GaussianNB()\n",
    "            ml_model.fit(X_train, y_train)\n",
    "            preds = ml_model.predict(X_val)\n",
    "            \n",
    "        elif model == 'svm':        \n",
    "            ml_model = SVC()\n",
    "            ml_model.fit(X_train, y_train) \n",
    "            preds = ml_model.predict(X_val)            \n",
    "            \n",
    "        elif model == 'random_forest':\n",
    "            ml_model = RandomForestClassifier(n_estimators = 100) #n_jobs=2, random_state=0\n",
    "            ml_model.fit(X_train, y_train)\n",
    "            preds = ml_model.predict(X_val)\n",
    "            \n",
    "        print('prediction completed',i)\n",
    "        accuracy.append(metrics.accuracy_score(y_val, preds))\n",
    "        \n",
    "        \n",
    "    return np.mean(accuracy), ml_model  "
   ]
  },
  {
   "cell_type": "markdown",
   "metadata": {},
   "source": [
    "### 2. ML models"
   ]
  },
  {
   "cell_type": "markdown",
   "metadata": {},
   "source": [
    "- 2.1 Decision tree"
   ]
  },
  {
   "cell_type": "code",
   "execution_count": 10,
   "metadata": {},
   "outputs": [
    {
     "name": "stdout",
     "output_type": "stream",
     "text": [
      "prediction completed 1\n",
      "prediction completed 2\n",
      "prediction completed 3\n",
      "prediction completed 4\n",
      "prediction completed 5\n",
      "prediction completed 6\n",
      "prediction completed 7\n",
      "prediction completed 8\n",
      "prediction completed 9\n"
     ]
    }
   ],
   "source": [
    "accur_decision_5, model = cross_val(dataset3,'decision_tree',5)"
   ]
  },
  {
   "cell_type": "code",
   "execution_count": 11,
   "metadata": {},
   "outputs": [
    {
     "data": {
      "text/plain": [
       "0.5770937121268247"
      ]
     },
     "execution_count": 11,
     "metadata": {},
     "output_type": "execute_result"
    }
   ],
   "source": [
    "accur_decision_5"
   ]
  },
  {
   "cell_type": "code",
   "execution_count": 12,
   "metadata": {},
   "outputs": [
    {
     "name": "stdout",
     "output_type": "stream",
     "text": [
      "prediction completed 1\n",
      "prediction completed 2\n",
      "prediction completed 3\n",
      "prediction completed 4\n",
      "prediction completed 5\n",
      "prediction completed 6\n",
      "prediction completed 7\n",
      "prediction completed 8\n",
      "prediction completed 9\n"
     ]
    }
   ],
   "source": [
    "accur_decision_10, model = cross_val(dataset3, 'decision_tree', 10)"
   ]
  },
  {
   "cell_type": "code",
   "execution_count": 13,
   "metadata": {},
   "outputs": [
    {
     "data": {
      "text/plain": [
       "0.6593471755918279"
      ]
     },
     "execution_count": 13,
     "metadata": {},
     "output_type": "execute_result"
    }
   ],
   "source": [
    "accur_decision_10"
   ]
  },
  {
   "cell_type": "code",
   "execution_count": 14,
   "metadata": {},
   "outputs": [
    {
     "name": "stdout",
     "output_type": "stream",
     "text": [
      "prediction completed 1\n",
      "prediction completed 2\n",
      "prediction completed 3\n",
      "prediction completed 4\n",
      "prediction completed 5\n",
      "prediction completed 6\n",
      "prediction completed 7\n",
      "prediction completed 8\n",
      "prediction completed 9\n"
     ]
    }
   ],
   "source": [
    "accur_decision_15, model =  cross_val(dataset3, 'decision_tree', 15)"
   ]
  },
  {
   "cell_type": "code",
   "execution_count": 15,
   "metadata": {},
   "outputs": [
    {
     "data": {
      "text/plain": [
       "0.6574884043105386"
      ]
     },
     "execution_count": 15,
     "metadata": {},
     "output_type": "execute_result"
    }
   ],
   "source": [
    "accur_decision_15"
   ]
  },
  {
   "cell_type": "code",
   "execution_count": 71,
   "metadata": {},
   "outputs": [
    {
     "name": "stdout",
     "output_type": "stream",
     "text": [
      "prediction completed 1\n",
      "prediction completed 2\n",
      "prediction completed 3\n",
      "prediction completed 4\n",
      "prediction completed 5\n",
      "prediction completed 6\n",
      "prediction completed 7\n",
      "prediction completed 8\n",
      "prediction completed 9\n"
     ]
    }
   ],
   "source": [
    "accur_decision_12, model_3 = cross_val(dataset3, 'decision_tree', 12)"
   ]
  },
  {
   "cell_type": "code",
   "execution_count": 17,
   "metadata": {},
   "outputs": [
    {
     "data": {
      "text/plain": [
       "0.6640031031057239"
      ]
     },
     "execution_count": 17,
     "metadata": {},
     "output_type": "execute_result"
    }
   ],
   "source": [
    "accur_decision_12"
   ]
  },
  {
   "cell_type": "markdown",
   "metadata": {
    "jupyter": {
     "outputs_hidden": true
    }
   },
   "source": [
    "- 2.2 SVM"
   ]
  },
  {
   "cell_type": "code",
   "execution_count": 18,
   "metadata": {
    "collapsed": true,
    "jupyter": {
     "outputs_hidden": true
    }
   },
   "outputs": [
    {
     "name": "stderr",
     "output_type": "stream",
     "text": [
      "c:\\users\\pgy\\appdata\\local\\programs\\python\\python35\\lib\\site-packages\\sklearn\\svm\\base.py:193: FutureWarning: The default value of gamma will change from 'auto' to 'scale' in version 0.22 to account better for unscaled features. Set gamma explicitly to 'auto' or 'scale' to avoid this warning.\n",
      "  \"avoid this warning.\", FutureWarning)\n"
     ]
    },
    {
     "name": "stdout",
     "output_type": "stream",
     "text": [
      "prediction completed 1\n"
     ]
    },
    {
     "name": "stderr",
     "output_type": "stream",
     "text": [
      "c:\\users\\pgy\\appdata\\local\\programs\\python\\python35\\lib\\site-packages\\sklearn\\svm\\base.py:193: FutureWarning: The default value of gamma will change from 'auto' to 'scale' in version 0.22 to account better for unscaled features. Set gamma explicitly to 'auto' or 'scale' to avoid this warning.\n",
      "  \"avoid this warning.\", FutureWarning)\n"
     ]
    },
    {
     "name": "stdout",
     "output_type": "stream",
     "text": [
      "prediction completed 2\n"
     ]
    },
    {
     "name": "stderr",
     "output_type": "stream",
     "text": [
      "c:\\users\\pgy\\appdata\\local\\programs\\python\\python35\\lib\\site-packages\\sklearn\\svm\\base.py:193: FutureWarning: The default value of gamma will change from 'auto' to 'scale' in version 0.22 to account better for unscaled features. Set gamma explicitly to 'auto' or 'scale' to avoid this warning.\n",
      "  \"avoid this warning.\", FutureWarning)\n"
     ]
    },
    {
     "name": "stdout",
     "output_type": "stream",
     "text": [
      "prediction completed 3\n"
     ]
    },
    {
     "name": "stderr",
     "output_type": "stream",
     "text": [
      "c:\\users\\pgy\\appdata\\local\\programs\\python\\python35\\lib\\site-packages\\sklearn\\svm\\base.py:193: FutureWarning: The default value of gamma will change from 'auto' to 'scale' in version 0.22 to account better for unscaled features. Set gamma explicitly to 'auto' or 'scale' to avoid this warning.\n",
      "  \"avoid this warning.\", FutureWarning)\n"
     ]
    },
    {
     "name": "stdout",
     "output_type": "stream",
     "text": [
      "prediction completed 4\n"
     ]
    },
    {
     "name": "stderr",
     "output_type": "stream",
     "text": [
      "c:\\users\\pgy\\appdata\\local\\programs\\python\\python35\\lib\\site-packages\\sklearn\\svm\\base.py:193: FutureWarning: The default value of gamma will change from 'auto' to 'scale' in version 0.22 to account better for unscaled features. Set gamma explicitly to 'auto' or 'scale' to avoid this warning.\n",
      "  \"avoid this warning.\", FutureWarning)\n"
     ]
    },
    {
     "name": "stdout",
     "output_type": "stream",
     "text": [
      "prediction completed 5\n"
     ]
    },
    {
     "name": "stderr",
     "output_type": "stream",
     "text": [
      "c:\\users\\pgy\\appdata\\local\\programs\\python\\python35\\lib\\site-packages\\sklearn\\svm\\base.py:193: FutureWarning: The default value of gamma will change from 'auto' to 'scale' in version 0.22 to account better for unscaled features. Set gamma explicitly to 'auto' or 'scale' to avoid this warning.\n",
      "  \"avoid this warning.\", FutureWarning)\n"
     ]
    },
    {
     "name": "stdout",
     "output_type": "stream",
     "text": [
      "prediction completed 6\n"
     ]
    },
    {
     "name": "stderr",
     "output_type": "stream",
     "text": [
      "c:\\users\\pgy\\appdata\\local\\programs\\python\\python35\\lib\\site-packages\\sklearn\\svm\\base.py:193: FutureWarning: The default value of gamma will change from 'auto' to 'scale' in version 0.22 to account better for unscaled features. Set gamma explicitly to 'auto' or 'scale' to avoid this warning.\n",
      "  \"avoid this warning.\", FutureWarning)\n"
     ]
    },
    {
     "name": "stdout",
     "output_type": "stream",
     "text": [
      "prediction completed 7\n"
     ]
    },
    {
     "name": "stderr",
     "output_type": "stream",
     "text": [
      "c:\\users\\pgy\\appdata\\local\\programs\\python\\python35\\lib\\site-packages\\sklearn\\svm\\base.py:193: FutureWarning: The default value of gamma will change from 'auto' to 'scale' in version 0.22 to account better for unscaled features. Set gamma explicitly to 'auto' or 'scale' to avoid this warning.\n",
      "  \"avoid this warning.\", FutureWarning)\n"
     ]
    },
    {
     "name": "stdout",
     "output_type": "stream",
     "text": [
      "prediction completed 8\n"
     ]
    },
    {
     "name": "stderr",
     "output_type": "stream",
     "text": [
      "c:\\users\\pgy\\appdata\\local\\programs\\python\\python35\\lib\\site-packages\\sklearn\\svm\\base.py:193: FutureWarning: The default value of gamma will change from 'auto' to 'scale' in version 0.22 to account better for unscaled features. Set gamma explicitly to 'auto' or 'scale' to avoid this warning.\n",
      "  \"avoid this warning.\", FutureWarning)\n"
     ]
    },
    {
     "name": "stdout",
     "output_type": "stream",
     "text": [
      "prediction completed 9\n"
     ]
    }
   ],
   "source": [
    "accur_svm, model = cross_val(dataset3,'svm')"
   ]
  },
  {
   "cell_type": "code",
   "execution_count": 19,
   "metadata": {},
   "outputs": [
    {
     "data": {
      "text/plain": [
       "0.4833391190995934"
      ]
     },
     "execution_count": 19,
     "metadata": {},
     "output_type": "execute_result"
    }
   ],
   "source": [
    "accur_svm"
   ]
  },
  {
   "cell_type": "markdown",
   "metadata": {},
   "source": [
    "- 2.3 LDA"
   ]
  },
  {
   "cell_type": "code",
   "execution_count": 20,
   "metadata": {},
   "outputs": [
    {
     "name": "stdout",
     "output_type": "stream",
     "text": [
      "prediction completed 1\n",
      "prediction completed 2\n",
      "prediction completed 3\n",
      "prediction completed 4\n",
      "prediction completed 5\n",
      "prediction completed 6\n",
      "prediction completed 7\n",
      "prediction completed 8\n",
      "prediction completed 9\n"
     ]
    }
   ],
   "source": [
    "accur_lda, model = cross_val(dataset3,'lda')"
   ]
  },
  {
   "cell_type": "code",
   "execution_count": 21,
   "metadata": {},
   "outputs": [
    {
     "data": {
      "text/plain": [
       "0.5949406552295462"
      ]
     },
     "execution_count": 21,
     "metadata": {},
     "output_type": "execute_result"
    }
   ],
   "source": [
    "accur_lda"
   ]
  },
  {
   "cell_type": "markdown",
   "metadata": {},
   "source": [
    "- 2.4 KNN"
   ]
  },
  {
   "cell_type": "code",
   "execution_count": 22,
   "metadata": {},
   "outputs": [
    {
     "name": "stdout",
     "output_type": "stream",
     "text": [
      "prediction completed 1\n",
      "prediction completed 2\n",
      "prediction completed 3\n",
      "prediction completed 4\n",
      "prediction completed 5\n",
      "prediction completed 6\n",
      "prediction completed 7\n",
      "prediction completed 8\n",
      "prediction completed 9\n"
     ]
    }
   ],
   "source": [
    "accur_knn, model = cross_val(dataset3,'knn')"
   ]
  },
  {
   "cell_type": "code",
   "execution_count": 23,
   "metadata": {},
   "outputs": [
    {
     "data": {
      "text/plain": [
       "0.6075355498283836"
      ]
     },
     "execution_count": 23,
     "metadata": {},
     "output_type": "execute_result"
    }
   ],
   "source": [
    "accur_knn"
   ]
  },
  {
   "cell_type": "markdown",
   "metadata": {
    "jupyter": {
     "outputs_hidden": true
    }
   },
   "source": [
    "- 2.5 Logistic"
   ]
  },
  {
   "cell_type": "code",
   "execution_count": 24,
   "metadata": {
    "collapsed": true,
    "jupyter": {
     "outputs_hidden": true
    }
   },
   "outputs": [
    {
     "name": "stderr",
     "output_type": "stream",
     "text": [
      "c:\\users\\pgy\\appdata\\local\\programs\\python\\python35\\lib\\site-packages\\sklearn\\linear_model\\logistic.py:432: FutureWarning: Default solver will be changed to 'lbfgs' in 0.22. Specify a solver to silence this warning.\n",
      "  FutureWarning)\n",
      "c:\\users\\pgy\\appdata\\local\\programs\\python\\python35\\lib\\site-packages\\sklearn\\linear_model\\logistic.py:469: FutureWarning: Default multi_class will be changed to 'auto' in 0.22. Specify the multi_class option to silence this warning.\n",
      "  \"this warning.\", FutureWarning)\n"
     ]
    },
    {
     "name": "stdout",
     "output_type": "stream",
     "text": [
      "prediction completed 1\n"
     ]
    },
    {
     "name": "stderr",
     "output_type": "stream",
     "text": [
      "c:\\users\\pgy\\appdata\\local\\programs\\python\\python35\\lib\\site-packages\\sklearn\\linear_model\\logistic.py:432: FutureWarning: Default solver will be changed to 'lbfgs' in 0.22. Specify a solver to silence this warning.\n",
      "  FutureWarning)\n",
      "c:\\users\\pgy\\appdata\\local\\programs\\python\\python35\\lib\\site-packages\\sklearn\\linear_model\\logistic.py:469: FutureWarning: Default multi_class will be changed to 'auto' in 0.22. Specify the multi_class option to silence this warning.\n",
      "  \"this warning.\", FutureWarning)\n"
     ]
    },
    {
     "name": "stdout",
     "output_type": "stream",
     "text": [
      "prediction completed 2\n"
     ]
    },
    {
     "name": "stderr",
     "output_type": "stream",
     "text": [
      "c:\\users\\pgy\\appdata\\local\\programs\\python\\python35\\lib\\site-packages\\sklearn\\linear_model\\logistic.py:432: FutureWarning: Default solver will be changed to 'lbfgs' in 0.22. Specify a solver to silence this warning.\n",
      "  FutureWarning)\n",
      "c:\\users\\pgy\\appdata\\local\\programs\\python\\python35\\lib\\site-packages\\sklearn\\linear_model\\logistic.py:469: FutureWarning: Default multi_class will be changed to 'auto' in 0.22. Specify the multi_class option to silence this warning.\n",
      "  \"this warning.\", FutureWarning)\n"
     ]
    },
    {
     "name": "stdout",
     "output_type": "stream",
     "text": [
      "prediction completed 3\n"
     ]
    },
    {
     "name": "stderr",
     "output_type": "stream",
     "text": [
      "c:\\users\\pgy\\appdata\\local\\programs\\python\\python35\\lib\\site-packages\\sklearn\\linear_model\\logistic.py:432: FutureWarning: Default solver will be changed to 'lbfgs' in 0.22. Specify a solver to silence this warning.\n",
      "  FutureWarning)\n",
      "c:\\users\\pgy\\appdata\\local\\programs\\python\\python35\\lib\\site-packages\\sklearn\\linear_model\\logistic.py:469: FutureWarning: Default multi_class will be changed to 'auto' in 0.22. Specify the multi_class option to silence this warning.\n",
      "  \"this warning.\", FutureWarning)\n"
     ]
    },
    {
     "name": "stdout",
     "output_type": "stream",
     "text": [
      "prediction completed 4\n"
     ]
    },
    {
     "name": "stderr",
     "output_type": "stream",
     "text": [
      "c:\\users\\pgy\\appdata\\local\\programs\\python\\python35\\lib\\site-packages\\sklearn\\linear_model\\logistic.py:432: FutureWarning: Default solver will be changed to 'lbfgs' in 0.22. Specify a solver to silence this warning.\n",
      "  FutureWarning)\n",
      "c:\\users\\pgy\\appdata\\local\\programs\\python\\python35\\lib\\site-packages\\sklearn\\linear_model\\logistic.py:469: FutureWarning: Default multi_class will be changed to 'auto' in 0.22. Specify the multi_class option to silence this warning.\n",
      "  \"this warning.\", FutureWarning)\n"
     ]
    },
    {
     "name": "stdout",
     "output_type": "stream",
     "text": [
      "prediction completed 5\n"
     ]
    },
    {
     "name": "stderr",
     "output_type": "stream",
     "text": [
      "c:\\users\\pgy\\appdata\\local\\programs\\python\\python35\\lib\\site-packages\\sklearn\\linear_model\\logistic.py:432: FutureWarning: Default solver will be changed to 'lbfgs' in 0.22. Specify a solver to silence this warning.\n",
      "  FutureWarning)\n",
      "c:\\users\\pgy\\appdata\\local\\programs\\python\\python35\\lib\\site-packages\\sklearn\\linear_model\\logistic.py:469: FutureWarning: Default multi_class will be changed to 'auto' in 0.22. Specify the multi_class option to silence this warning.\n",
      "  \"this warning.\", FutureWarning)\n"
     ]
    },
    {
     "name": "stdout",
     "output_type": "stream",
     "text": [
      "prediction completed 6\n"
     ]
    },
    {
     "name": "stderr",
     "output_type": "stream",
     "text": [
      "c:\\users\\pgy\\appdata\\local\\programs\\python\\python35\\lib\\site-packages\\sklearn\\linear_model\\logistic.py:432: FutureWarning: Default solver will be changed to 'lbfgs' in 0.22. Specify a solver to silence this warning.\n",
      "  FutureWarning)\n",
      "c:\\users\\pgy\\appdata\\local\\programs\\python\\python35\\lib\\site-packages\\sklearn\\linear_model\\logistic.py:469: FutureWarning: Default multi_class will be changed to 'auto' in 0.22. Specify the multi_class option to silence this warning.\n",
      "  \"this warning.\", FutureWarning)\n"
     ]
    },
    {
     "name": "stdout",
     "output_type": "stream",
     "text": [
      "prediction completed 7\n"
     ]
    },
    {
     "name": "stderr",
     "output_type": "stream",
     "text": [
      "c:\\users\\pgy\\appdata\\local\\programs\\python\\python35\\lib\\site-packages\\sklearn\\linear_model\\logistic.py:432: FutureWarning: Default solver will be changed to 'lbfgs' in 0.22. Specify a solver to silence this warning.\n",
      "  FutureWarning)\n",
      "c:\\users\\pgy\\appdata\\local\\programs\\python\\python35\\lib\\site-packages\\sklearn\\linear_model\\logistic.py:469: FutureWarning: Default multi_class will be changed to 'auto' in 0.22. Specify the multi_class option to silence this warning.\n",
      "  \"this warning.\", FutureWarning)\n"
     ]
    },
    {
     "name": "stdout",
     "output_type": "stream",
     "text": [
      "prediction completed 8\n"
     ]
    },
    {
     "name": "stderr",
     "output_type": "stream",
     "text": [
      "c:\\users\\pgy\\appdata\\local\\programs\\python\\python35\\lib\\site-packages\\sklearn\\linear_model\\logistic.py:432: FutureWarning: Default solver will be changed to 'lbfgs' in 0.22. Specify a solver to silence this warning.\n",
      "  FutureWarning)\n",
      "c:\\users\\pgy\\appdata\\local\\programs\\python\\python35\\lib\\site-packages\\sklearn\\linear_model\\logistic.py:469: FutureWarning: Default multi_class will be changed to 'auto' in 0.22. Specify the multi_class option to silence this warning.\n",
      "  \"this warning.\", FutureWarning)\n"
     ]
    },
    {
     "name": "stdout",
     "output_type": "stream",
     "text": [
      "prediction completed 9\n"
     ]
    }
   ],
   "source": [
    "accur_logistic, model = cross_val(dataset3,'logistic')"
   ]
  },
  {
   "cell_type": "code",
   "execution_count": 25,
   "metadata": {},
   "outputs": [
    {
     "data": {
      "text/plain": [
       "0.6789197011718693"
      ]
     },
     "execution_count": 25,
     "metadata": {},
     "output_type": "execute_result"
    }
   ],
   "source": [
    "accur_logistic"
   ]
  },
  {
   "cell_type": "markdown",
   "metadata": {},
   "source": [
    "- 2.6 GNB"
   ]
  },
  {
   "cell_type": "code",
   "execution_count": 26,
   "metadata": {},
   "outputs": [
    {
     "name": "stdout",
     "output_type": "stream",
     "text": [
      "prediction completed 1\n",
      "prediction completed 2\n",
      "prediction completed 3\n",
      "prediction completed 4\n",
      "prediction completed 5\n",
      "prediction completed 6\n",
      "prediction completed 7\n",
      "prediction completed 8\n",
      "prediction completed 9\n"
     ]
    }
   ],
   "source": [
    "accur_gnb, model = cross_val(dataset3,'gnb')"
   ]
  },
  {
   "cell_type": "code",
   "execution_count": 27,
   "metadata": {},
   "outputs": [
    {
     "data": {
      "text/plain": [
       "0.6979974417080018"
      ]
     },
     "execution_count": 27,
     "metadata": {},
     "output_type": "execute_result"
    }
   ],
   "source": [
    "accur_gnb"
   ]
  },
  {
   "cell_type": "markdown",
   "metadata": {},
   "source": [
    "- 2.7 Random forest"
   ]
  },
  {
   "cell_type": "code",
   "execution_count": 84,
   "metadata": {},
   "outputs": [
    {
     "name": "stdout",
     "output_type": "stream",
     "text": [
      "prediction completed 1\n",
      "prediction completed 2\n",
      "prediction completed 3\n",
      "prediction completed 4\n",
      "prediction completed 5\n",
      "prediction completed 6\n",
      "prediction completed 7\n",
      "prediction completed 8\n",
      "prediction completed 9\n"
     ]
    }
   ],
   "source": [
    "accur_forest, model_3_f = cross_val(dataset3,'random_forest')"
   ]
  },
  {
   "cell_type": "code",
   "execution_count": 85,
   "metadata": {},
   "outputs": [
    {
     "data": {
      "text/plain": [
       "0.7332900102028665"
      ]
     },
     "execution_count": 85,
     "metadata": {},
     "output_type": "execute_result"
    }
   ],
   "source": [
    "accur_forest"
   ]
  },
  {
   "cell_type": "markdown",
   "metadata": {},
   "source": [
    "- 2.8 Decision tree with Dataset1,2 (Because of calculation time, they are test at last.)"
   ]
  },
  {
   "cell_type": "code",
   "execution_count": 30,
   "metadata": {},
   "outputs": [
    {
     "name": "stdout",
     "output_type": "stream",
     "text": [
      "prediction completed 1\n",
      "prediction completed 2\n",
      "prediction completed 3\n",
      "prediction completed 4\n",
      "prediction completed 5\n",
      "prediction completed 6\n",
      "prediction completed 7\n",
      "prediction completed 8\n",
      "prediction completed 9\n"
     ]
    }
   ],
   "source": [
    "accur_decision_5_2, model = cross_val(dataset2,'decision_tree',5)"
   ]
  },
  {
   "cell_type": "code",
   "execution_count": 31,
   "metadata": {},
   "outputs": [
    {
     "data": {
      "text/plain": [
       "0.5748511524405276"
      ]
     },
     "execution_count": 31,
     "metadata": {},
     "output_type": "execute_result"
    }
   ],
   "source": [
    "accur_decision_5_2"
   ]
  },
  {
   "cell_type": "code",
   "execution_count": 32,
   "metadata": {},
   "outputs": [
    {
     "name": "stdout",
     "output_type": "stream",
     "text": [
      "prediction completed 1\n",
      "prediction completed 2\n",
      "prediction completed 3\n",
      "prediction completed 4\n",
      "prediction completed 5\n",
      "prediction completed 6\n",
      "prediction completed 7\n",
      "prediction completed 8\n",
      "prediction completed 9\n"
     ]
    }
   ],
   "source": [
    "accur_decision_10_2, model = cross_val(dataset2,'decision_tree',10)"
   ]
  },
  {
   "cell_type": "code",
   "execution_count": 33,
   "metadata": {},
   "outputs": [
    {
     "data": {
      "text/plain": [
       "0.6525223133259908"
      ]
     },
     "execution_count": 33,
     "metadata": {},
     "output_type": "execute_result"
    }
   ],
   "source": [
    "accur_decision_10_2"
   ]
  },
  {
   "cell_type": "code",
   "execution_count": 34,
   "metadata": {},
   "outputs": [
    {
     "name": "stdout",
     "output_type": "stream",
     "text": [
      "prediction completed 1\n",
      "prediction completed 2\n",
      "prediction completed 3\n",
      "prediction completed 4\n",
      "prediction completed 5\n",
      "prediction completed 6\n",
      "prediction completed 7\n",
      "prediction completed 8\n",
      "prediction completed 9\n"
     ]
    }
   ],
   "source": [
    "accur_decision_15_2, model = cross_val(dataset2,'decision_tree',15)"
   ]
  },
  {
   "cell_type": "code",
   "execution_count": 35,
   "metadata": {},
   "outputs": [
    {
     "data": {
      "text/plain": [
       "0.6578942232495925"
      ]
     },
     "execution_count": 35,
     "metadata": {},
     "output_type": "execute_result"
    }
   ],
   "source": [
    "accur_decision_15_2"
   ]
  },
  {
   "cell_type": "code",
   "execution_count": 70,
   "metadata": {},
   "outputs": [
    {
     "name": "stdout",
     "output_type": "stream",
     "text": [
      "prediction completed 1\n",
      "prediction completed 2\n",
      "prediction completed 3\n",
      "prediction completed 4\n",
      "prediction completed 5\n",
      "prediction completed 6\n",
      "prediction completed 7\n",
      "prediction completed 8\n",
      "prediction completed 9\n"
     ]
    }
   ],
   "source": [
    "accur_decision_12_2, model_2 = cross_val(dataset2,'decision_tree',12)"
   ]
  },
  {
   "cell_type": "code",
   "execution_count": 37,
   "metadata": {},
   "outputs": [
    {
     "name": "stdout",
     "output_type": "stream",
     "text": [
      "prediction completed 1\n",
      "prediction completed 2\n",
      "prediction completed 3\n",
      "prediction completed 4\n",
      "prediction completed 5\n",
      "prediction completed 6\n",
      "prediction completed 7\n",
      "prediction completed 8\n",
      "prediction completed 9\n"
     ]
    }
   ],
   "source": [
    "accur_decision_5_1, model = cross_val(dataset2,'decision_tree',5)"
   ]
  },
  {
   "cell_type": "code",
   "execution_count": 38,
   "metadata": {},
   "outputs": [
    {
     "data": {
      "text/plain": [
       "0.5748511524405276"
      ]
     },
     "execution_count": 38,
     "metadata": {},
     "output_type": "execute_result"
    }
   ],
   "source": [
    "accur_decision_5_1"
   ]
  },
  {
   "cell_type": "code",
   "execution_count": 61,
   "metadata": {},
   "outputs": [
    {
     "name": "stdout",
     "output_type": "stream",
     "text": [
      "prediction completed 1\n",
      "prediction completed 2\n",
      "prediction completed 3\n",
      "prediction completed 4\n",
      "prediction completed 5\n",
      "prediction completed 6\n",
      "prediction completed 7\n",
      "prediction completed 8\n",
      "prediction completed 9\n"
     ]
    }
   ],
   "source": [
    "accur_decision_5_1, model = cross_val(dataset1,'decision_tree',5)"
   ]
  },
  {
   "cell_type": "code",
   "execution_count": 45,
   "metadata": {},
   "outputs": [
    {
     "data": {
      "text/plain": [
       "0.5756548204549501"
      ]
     },
     "execution_count": 45,
     "metadata": {},
     "output_type": "execute_result"
    }
   ],
   "source": [
    "accur_decision_5_1"
   ]
  },
  {
   "cell_type": "code",
   "execution_count": 40,
   "metadata": {},
   "outputs": [
    {
     "name": "stdout",
     "output_type": "stream",
     "text": [
      "prediction completed 1\n",
      "prediction completed 2\n",
      "prediction completed 3\n",
      "prediction completed 4\n",
      "prediction completed 5\n",
      "prediction completed 6\n",
      "prediction completed 7\n",
      "prediction completed 8\n",
      "prediction completed 9\n"
     ]
    }
   ],
   "source": [
    "accur_decision_10_1, model = cross_val(dataset1,'decision_tree',10)"
   ]
  },
  {
   "cell_type": "code",
   "execution_count": 46,
   "metadata": {},
   "outputs": [
    {
     "data": {
      "text/plain": [
       "0.6636027846534317"
      ]
     },
     "execution_count": 46,
     "metadata": {},
     "output_type": "execute_result"
    }
   ],
   "source": [
    "accur_decision_10_1"
   ]
  },
  {
   "cell_type": "code",
   "execution_count": 69,
   "metadata": {},
   "outputs": [
    {
     "name": "stdout",
     "output_type": "stream",
     "text": [
      "prediction completed 1\n",
      "prediction completed 2\n",
      "prediction completed 3\n",
      "prediction completed 4\n",
      "prediction completed 5\n",
      "prediction completed 6\n",
      "prediction completed 7\n",
      "prediction completed 8\n",
      "prediction completed 9\n"
     ]
    }
   ],
   "source": [
    "accur_decision_15_1, model_1 = cross_val(dataset1,'decision_tree',15)"
   ]
  },
  {
   "cell_type": "code",
   "execution_count": 42,
   "metadata": {},
   "outputs": [
    {
     "data": {
      "text/plain": [
       "0.6669743992943297"
      ]
     },
     "execution_count": 42,
     "metadata": {},
     "output_type": "execute_result"
    }
   ],
   "source": [
    "accur_decision_15_1"
   ]
  },
  {
   "cell_type": "code",
   "execution_count": 43,
   "metadata": {},
   "outputs": [
    {
     "name": "stdout",
     "output_type": "stream",
     "text": [
      "prediction completed 1\n",
      "prediction completed 2\n",
      "prediction completed 3\n",
      "prediction completed 4\n",
      "prediction completed 5\n",
      "prediction completed 6\n",
      "prediction completed 7\n",
      "prediction completed 8\n",
      "prediction completed 9\n"
     ]
    }
   ],
   "source": [
    "accur_decision_12_1, model = cross_val(dataset1,'decision_tree',12)"
   ]
  },
  {
   "cell_type": "code",
   "execution_count": 44,
   "metadata": {},
   "outputs": [
    {
     "data": {
      "text/plain": [
       "0.6625635098941294"
      ]
     },
     "execution_count": 44,
     "metadata": {},
     "output_type": "execute_result"
    }
   ],
   "source": [
    "accur_decision_12_1"
   ]
  },
  {
   "cell_type": "code",
   "execution_count": 65,
   "metadata": {},
   "outputs": [],
   "source": [
    "accur_dt_d1 = [accur_decision_5_1, accur_decision_10_1, accur_decision_12_1, accur_decision_15_1]\n",
    "accur_dt_d2 = [accur_decision_5_2, accur_decision_10_2, accur_decision_12_2, accur_decision_15_2]\n",
    "accur_dt_d3 = [accur_decision_5, accur_decision_10, accur_decision_12, accur_decision_15]"
   ]
  },
  {
   "cell_type": "code",
   "execution_count": 66,
   "metadata": {},
   "outputs": [
    {
     "data": {
      "image/png": "[encoded data removed]",
      "text/plain": [
       "<Figure size 432x288 with 1 Axes>"
      ]
     },
     "metadata": {
      "needs_background": "light"
     },
     "output_type": "display_data"
    }
   ],
   "source": [
    "plt.plot([5,10,12,15],accur_dt_d1)\n",
    "plt.plot([5,10,12,15],accur_dt_d2)\n",
    "plt.plot([5,10,12,15],accur_dt_d3)\n",
    "plt.legend(['dataset1','dataset2','dataset3'])\n",
    "plt.xlabel('depth')\n",
    "plt.ylabel('accuracy')\n",
    "plt.title('Result of cross validation using tree')\n",
    "plt.show()"
   ]
  },
  {
   "cell_type": "code",
   "execution_count": 76,
   "metadata": {},
   "outputs": [],
   "source": [
    "preds1 = model_1.predict(testset1.drop(['label','subject'],axis=1))\n",
    "preds2 = model_2.predict(testset2.drop(['label','subject'],axis=1))\n",
    "preds3 = model_3.predict(testset3.drop(['label','subject'],axis=1))"
   ]
  },
  {
   "cell_type": "code",
   "execution_count": 77,
   "metadata": {},
   "outputs": [
    {
     "data": {
      "text/plain": [
       "0.8185390248258617"
      ]
     },
     "execution_count": 77,
     "metadata": {},
     "output_type": "execute_result"
    }
   ],
   "source": [
    "metrics.accuracy_score(testset1['label'], preds1)"
   ]
  },
  {
   "cell_type": "code",
   "execution_count": 78,
   "metadata": {},
   "outputs": [
    {
     "data": {
      "text/plain": [
       "0.8305361651566909"
      ]
     },
     "execution_count": 78,
     "metadata": {},
     "output_type": "execute_result"
    }
   ],
   "source": [
    "metrics.accuracy_score(testset2['label'], preds2)"
   ]
  },
  {
   "cell_type": "code",
   "execution_count": 79,
   "metadata": {},
   "outputs": [
    {
     "data": {
      "text/plain": [
       "0.8285460467870891"
      ]
     },
     "execution_count": 79,
     "metadata": {},
     "output_type": "execute_result"
    }
   ],
   "source": [
    "metrics.accuracy_score(testset3['label'], preds3)"
   ]
  },
  {
   "cell_type": "code",
   "execution_count": 104,
   "metadata": {},
   "outputs": [],
   "source": [
    "import itertools\n",
    "def plot_confusion_matrix(cm, classes,\n",
    "                          normalize=False,\n",
    "                          title='Confusion matrix',\n",
    "                          cmap=plt.cm.Blues):\n",
    "    if normalize:\n",
    "        cm = cm.astype('float') / cm.sum(axis=1)[:, np.newaxis]\n",
    "\n",
    "    plt.imshow(cm, interpolation='nearest', cmap=cmap)\n",
    "    plt.title(title)\n",
    "    plt.colorbar()\n",
    "    tick_marks = np.arange(len(classes))\n",
    "    plt.xticks(tick_marks, classes, rotation=90)\n",
    "    plt.yticks(tick_marks, classes)\n",
    "\n",
    "    fmt = '.2f' if normalize else 'd'\n",
    "    thresh = cm.max() / 2.\n",
    "    for i, j in itertools.product(range(cm.shape[0]), range(cm.shape[1])):\n",
    "        plt.text(j, i, format(cm[i, j], fmt),\n",
    "                 horizontalalignment=\"center\",\n",
    "                 color=\"white\" if cm[i, j] > thresh else \"black\")\n",
    "\n",
    "    plt.tight_layout()\n",
    "    plt.ylabel('True label')\n",
    "    plt.xlabel('Predicted label')"
   ]
  },
  {
   "cell_type": "code",
   "execution_count": 106,
   "metadata": {},
   "outputs": [],
   "source": [
    "labels=[\n",
    "    'Standing still',  \n",
    "    'Sitting and relaxing', \n",
    "     'Lying down',\n",
    "     'Walking', \n",
    "    'Climbing stairs', \n",
    "    'Waist bends forward', \n",
    "    'Frontal elevation of arms',\n",
    "    'Knees bending',\n",
    "    'Cycling',\n",
    "    'Jogging',\n",
    "    'Running',\n",
    "    'Jump front & back'\n",
    "]"
   ]
  },
  {
   "cell_type": "code",
   "execution_count": 110,
   "metadata": {},
   "outputs": [
    {
     "data": {
      "image/png": "[encoded data removed]",
      "text/plain": [
       "<Figure size 576x576 with 2 Axes>"
      ]
     },
     "metadata": {
      "needs_background": "light"
     },
     "output_type": "display_data"
    }
   ],
   "source": [
    "plt.figure(figsize=(8,8))\n",
    "cm = metrics.confusion_matrix(testset2['label'],preds2)\n",
    "plot_confusion_matrix(cm, classes=labels, normalize=True, title='Normalized confusion matrix', cmap = plt.cm.Greens)\n",
    "plt.show()"
   ]
  },
  {
   "cell_type": "code",
   "execution_count": 111,
   "metadata": {},
   "outputs": [
    {
     "data": {
      "image/png": "[encoded data removed]",
      "text/plain": [
       "<Figure size 576x576 with 2 Axes>"
      ]
     },
     "metadata": {
      "needs_background": "light"
     },
     "output_type": "display_data"
    }
   ],
   "source": [
    "plt.figure(figsize=(8,8))\n",
    "cm = metrics.confusion_matrix(testset3['label'],preds3)\n",
    "plot_confusion_matrix(cm, classes=labels, normalize=True, title='Normalized confusion matrix', cmap = plt.cm.Greens)\n",
    "plt.show()"
   ]
  },
  {
   "cell_type": "code",
   "execution_count": 112,
   "metadata": {},
   "outputs": [
    {
     "data": {
      "image/png": "[encoded data removed]",
      "text/plain": [
       "<Figure size 576x576 with 2 Axes>"
      ]
     },
     "metadata": {
      "needs_background": "light"
     },
     "output_type": "display_data"
    }
   ],
   "source": [
    "plt.figure(figsize=(8,8))\n",
    "cm = metrics.confusion_matrix(testset1['label'],preds1)\n",
    "plot_confusion_matrix(cm, classes=labels, normalize=True, title='Normalized confusion matrix', cmap = plt.cm.Greens)\n",
    "plt.show()"
   ]
  },
  {
   "cell_type": "code",
   "execution_count": 113,
   "metadata": {},
   "outputs": [
    {
     "name": "stdout",
     "output_type": "stream",
     "text": [
      "prediction completed 1\n",
      "prediction completed 2\n",
      "prediction completed 3\n",
      "prediction completed 4\n",
      "prediction completed 5\n",
      "prediction completed 6\n",
      "prediction completed 7\n",
      "prediction completed 8\n",
      "prediction completed 9\n"
     ]
    }
   ],
   "source": [
    "accur_forest, model_2_f = cross_val(dataset2,'random_forest')"
   ]
  },
  {
   "cell_type": "code",
   "execution_count": 114,
   "metadata": {},
   "outputs": [
    {
     "name": "stdout",
     "output_type": "stream",
     "text": [
      "prediction completed 1\n",
      "prediction completed 2\n",
      "prediction completed 3\n",
      "prediction completed 4\n",
      "prediction completed 5\n",
      "prediction completed 6\n",
      "prediction completed 7\n",
      "prediction completed 8\n",
      "prediction completed 9\n"
     ]
    }
   ],
   "source": [
    "accur_forest, model_1_f = cross_val(dataset1,'random_forest')"
   ]
  },
  {
   "cell_type": "code",
   "execution_count": 115,
   "metadata": {},
   "outputs": [],
   "source": [
    "preds1_f = model_1_f.predict(testset1.drop(['label','subject'],axis=1))\n",
    "preds2_f = model_2_f.predict(testset2.drop(['label','subject'],axis=1))\n",
    "preds3_f = model_3_f.predict(testset3.drop(['label','subject'],axis=1))"
   ]
  },
  {
   "cell_type": "code",
   "execution_count": 117,
   "metadata": {},
   "outputs": [
    {
     "data": {
      "text/plain": [
       "0.8970947192951122"
      ]
     },
     "execution_count": 117,
     "metadata": {},
     "output_type": "execute_result"
    }
   ],
   "source": [
    "metrics.accuracy_score(testset1['label'], preds1_f)"
   ]
  },
  {
   "cell_type": "code",
   "execution_count": 118,
   "metadata": {},
   "outputs": [
    {
     "data": {
      "text/plain": [
       "0.9071736224565573"
      ]
     },
     "execution_count": 118,
     "metadata": {},
     "output_type": "execute_result"
    }
   ],
   "source": [
    "metrics.accuracy_score(testset2['label'], preds2_f)"
   ]
  },
  {
   "cell_type": "code",
   "execution_count": 119,
   "metadata": {},
   "outputs": [
    {
     "data": {
      "text/plain": [
       "0.9087947882736156"
      ]
     },
     "execution_count": 119,
     "metadata": {},
     "output_type": "execute_result"
    }
   ],
   "source": [
    "metrics.accuracy_score(testset3['label'], preds3_f)"
   ]
  },
  {
   "cell_type": "code",
   "execution_count": 120,
   "metadata": {},
   "outputs": [
    {
     "data": {
      "image/png": "[encoded data removed]",
      "text/plain": [
       "<Figure size 576x576 with 2 Axes>"
      ]
     },
     "metadata": {
      "needs_background": "light"
     },
     "output_type": "display_data"
    }
   ],
   "source": [
    "plt.figure(figsize=(8,8))\n",
    "cm = metrics.confusion_matrix(testset2['label'],preds2_f)\n",
    "plot_confusion_matrix(cm, classes=labels, normalize=True, title='Normalized confusion matrix', cmap = plt.cm.Greens)\n",
    "plt.show()"
   ]
  },
  {
   "cell_type": "markdown",
   "metadata": {},
   "source": [
    "### PCA (feed back)\n",
    "Decision tree and random forest don't predict waist bending, instead predict knees bending.  \n",
    "So I used PCA to display their distribution."
   ]
  },
  {
   "cell_type": "code",
   "execution_count": 25,
   "metadata": {},
   "outputs": [],
   "source": [
    "import pandas as pd\n",
    "%matplotlib inline\n",
    "import matplotlib.pyplot as plt\n",
    "import seaborn as sns\n",
    "sns.set()\n",
    "import numpy as np"
   ]
  },
  {
   "cell_type": "code",
   "execution_count": 26,
   "metadata": {},
   "outputs": [],
   "source": [
    "dataset3 = pd.read_csv('Dataset3.csv')"
   ]
  },
  {
   "cell_type": "code",
   "execution_count": 40,
   "metadata": {},
   "outputs": [
    {
     "data": {
      "image/png": "[encoded data removed]",
      "text/plain": [
       "<Figure size 432x288 with 1 Axes>"
      ]
     },
     "metadata": {},
     "output_type": "display_data"
    }
   ],
   "source": [
    "from sklearn.decomposition import PCA\n",
    "pca = PCA(2)  # project from 64 to 2 dimensions\n",
    "w_projected = pca.fit_transform(dataset3[dataset3['label'] == 6].drop(['subject','label'],axis = 1))\n",
    "k_projected = pca.fit_transform(dataset3[dataset3['label'] == 8].drop(['subject','label'],axis = 1))\n",
    "\n",
    "plt.scatter(w_projected[:,0], w_projected[:,1], alpha = 0.8)\n",
    "plt.scatter(k_projected[:,0], k_projected[:,1], alpha = 0.5)\n",
    "plt.legend(['Waist bends forward', 'Knees bending'])\n",
    "plt.show()"
   ]
  },
  {
   "cell_type": "markdown",
   "metadata": {},
   "source": [
    "A lot of elements are overlapped each other.  \n",
    "Of course, real distribution of them may be different, but important thing is that model can't predict difference between them.  \n",
    "Therefore, I think their distribution is similiar."
   ]
  },
  {
   "cell_type": "markdown",
   "metadata": {},
   "source": [
    "### 8. Conclusion\n",
    " 1. When decision tree is used, dataset2 is the best.\n",
    " 2. From dataset3, the best model is random forest\n",
    " 3. When random forest is used, dataset3 is the best. \n",
    " 4. The best model fail to predict waist bending, instead predict knees bending."
   ]
  }
 ],
 "metadata": {
  "kernelspec": {
   "display_name": "Python 3",
   "language": "python",
   "name": "python3"
  },
  "language_info": {
   "codemirror_mode": {
    "name": "ipython",
    "version": 3
   },
   "file_extension": ".py",
   "mimetype": "text/x-python",
   "name": "python",
   "nbconvert_exporter": "python",
   "pygments_lexer": "ipython3",
   "version": "3.5.3"
  }
 },
 "nbformat": 4,
 "nbformat_minor": 4
}
